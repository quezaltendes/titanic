{
 "cells": [
  {
   "cell_type": "code",
   "execution_count": 1,
   "id": "4b6174af",
   "metadata": {
    "execution": {
     "iopub.execute_input": "2024-11-24T11:12:34.067480Z",
     "iopub.status.busy": "2024-11-24T11:12:34.066951Z",
     "iopub.status.idle": "2024-11-24T11:12:36.573734Z",
     "shell.execute_reply": "2024-11-24T11:12:36.572688Z"
    },
    "papermill": {
     "duration": 2.51403,
     "end_time": "2024-11-24T11:12:36.576308",
     "exception": false,
     "start_time": "2024-11-24T11:12:34.062278",
     "status": "completed"
    },
    "tags": []
   },
   "outputs": [],
   "source": [
    "import numpy as np\n",
    "import pandas as pd\n",
    "from sklearn.preprocessing import MinMaxScaler"
   ]
  },
  {
   "cell_type": "code",
   "execution_count": 2,
   "id": "aa29e1e7",
   "metadata": {
    "execution": {
     "iopub.execute_input": "2024-11-24T11:12:36.583579Z",
     "iopub.status.busy": "2024-11-24T11:12:36.583009Z",
     "iopub.status.idle": "2024-11-24T11:12:40.080153Z",
     "shell.execute_reply": "2024-11-24T11:12:40.078922Z"
    },
    "papermill": {
     "duration": 3.503191,
     "end_time": "2024-11-24T11:12:40.082464",
     "exception": false,
     "start_time": "2024-11-24T11:12:36.579273",
     "status": "completed"
    },
    "tags": []
   },
   "outputs": [
    {
     "name": "stdout",
     "output_type": "stream",
     "text": [
      "/kaggle/input/train-and-test/train.csv\n",
      "/kaggle/input/train-and-test/test.csv\n"
     ]
    }
   ],
   "source": [
    "import os\n",
    "for dirname, _, filenames in os.walk('/kaggle/input'):\n",
    "    for filename in filenames:\n",
    "        print(os.path.join(dirname, filename))\n",
    "import pandas as pd\n",
    "import torch\n",
    "from torch.utils.data import DataLoader, TensorDataset"
   ]
  },
  {
   "cell_type": "code",
   "execution_count": 3,
   "id": "b526d38c",
   "metadata": {
    "execution": {
     "iopub.execute_input": "2024-11-24T11:12:40.090639Z",
     "iopub.status.busy": "2024-11-24T11:12:40.088973Z",
     "iopub.status.idle": "2024-11-24T11:12:40.130913Z",
     "shell.execute_reply": "2024-11-24T11:12:40.129766Z"
    },
    "papermill": {
     "duration": 0.048123,
     "end_time": "2024-11-24T11:12:40.133324",
     "exception": false,
     "start_time": "2024-11-24T11:12:40.085201",
     "status": "completed"
    },
    "tags": []
   },
   "outputs": [],
   "source": [
    "df = pd.read_csv(\"/kaggle/input/train-and-test/train.csv\")\n",
    "\n",
    "\n",
    "columns_to_drop = [\"Cabin\", \"Name\", \"Embarked\", \"Fare\", \"Ticket\", \"PassengerId\", \"Age\"]\n",
    "df = df.drop(columns=columns_to_drop)\n",
    "df[\"Sex\"] = df[\"Sex\"].map({\"male\": 1, \"female\": 0}) \n",
    "y_train = df[\"Survived\"]\n",
    "X_train = df.drop(columns=[\"Survived\"])\n"
   ]
  },
  {
   "cell_type": "code",
   "execution_count": 4,
   "id": "61121d0c",
   "metadata": {
    "execution": {
     "iopub.execute_input": "2024-11-24T11:12:40.140176Z",
     "iopub.status.busy": "2024-11-24T11:12:40.139758Z",
     "iopub.status.idle": "2024-11-24T11:12:40.165506Z",
     "shell.execute_reply": "2024-11-24T11:12:40.164279Z"
    },
    "papermill": {
     "duration": 0.031603,
     "end_time": "2024-11-24T11:12:40.167567",
     "exception": false,
     "start_time": "2024-11-24T11:12:40.135964",
     "status": "completed"
    },
    "tags": []
   },
   "outputs": [
    {
     "data": {
      "text/html": [
       "<div>\n",
       "<style scoped>\n",
       "    .dataframe tbody tr th:only-of-type {\n",
       "        vertical-align: middle;\n",
       "    }\n",
       "\n",
       "    .dataframe tbody tr th {\n",
       "        vertical-align: top;\n",
       "    }\n",
       "\n",
       "    .dataframe thead th {\n",
       "        text-align: right;\n",
       "    }\n",
       "</style>\n",
       "<table border=\"1\" class=\"dataframe\">\n",
       "  <thead>\n",
       "    <tr style=\"text-align: right;\">\n",
       "      <th></th>\n",
       "      <th>Pclass</th>\n",
       "      <th>Sex</th>\n",
       "      <th>SibSp</th>\n",
       "      <th>Parch</th>\n",
       "    </tr>\n",
       "  </thead>\n",
       "  <tbody>\n",
       "    <tr>\n",
       "      <th>0</th>\n",
       "      <td>3</td>\n",
       "      <td>1</td>\n",
       "      <td>0</td>\n",
       "      <td>0</td>\n",
       "    </tr>\n",
       "    <tr>\n",
       "      <th>1</th>\n",
       "      <td>3</td>\n",
       "      <td>0</td>\n",
       "      <td>1</td>\n",
       "      <td>0</td>\n",
       "    </tr>\n",
       "    <tr>\n",
       "      <th>2</th>\n",
       "      <td>2</td>\n",
       "      <td>1</td>\n",
       "      <td>0</td>\n",
       "      <td>0</td>\n",
       "    </tr>\n",
       "    <tr>\n",
       "      <th>3</th>\n",
       "      <td>3</td>\n",
       "      <td>1</td>\n",
       "      <td>0</td>\n",
       "      <td>0</td>\n",
       "    </tr>\n",
       "    <tr>\n",
       "      <th>4</th>\n",
       "      <td>3</td>\n",
       "      <td>0</td>\n",
       "      <td>1</td>\n",
       "      <td>1</td>\n",
       "    </tr>\n",
       "    <tr>\n",
       "      <th>...</th>\n",
       "      <td>...</td>\n",
       "      <td>...</td>\n",
       "      <td>...</td>\n",
       "      <td>...</td>\n",
       "    </tr>\n",
       "    <tr>\n",
       "      <th>413</th>\n",
       "      <td>3</td>\n",
       "      <td>1</td>\n",
       "      <td>0</td>\n",
       "      <td>0</td>\n",
       "    </tr>\n",
       "    <tr>\n",
       "      <th>414</th>\n",
       "      <td>1</td>\n",
       "      <td>0</td>\n",
       "      <td>0</td>\n",
       "      <td>0</td>\n",
       "    </tr>\n",
       "    <tr>\n",
       "      <th>415</th>\n",
       "      <td>3</td>\n",
       "      <td>1</td>\n",
       "      <td>0</td>\n",
       "      <td>0</td>\n",
       "    </tr>\n",
       "    <tr>\n",
       "      <th>416</th>\n",
       "      <td>3</td>\n",
       "      <td>1</td>\n",
       "      <td>0</td>\n",
       "      <td>0</td>\n",
       "    </tr>\n",
       "    <tr>\n",
       "      <th>417</th>\n",
       "      <td>3</td>\n",
       "      <td>1</td>\n",
       "      <td>1</td>\n",
       "      <td>1</td>\n",
       "    </tr>\n",
       "  </tbody>\n",
       "</table>\n",
       "<p>418 rows × 4 columns</p>\n",
       "</div>"
      ],
      "text/plain": [
       "     Pclass  Sex  SibSp  Parch\n",
       "0         3    1      0      0\n",
       "1         3    0      1      0\n",
       "2         2    1      0      0\n",
       "3         3    1      0      0\n",
       "4         3    0      1      1\n",
       "..      ...  ...    ...    ...\n",
       "413       3    1      0      0\n",
       "414       1    0      0      0\n",
       "415       3    1      0      0\n",
       "416       3    1      0      0\n",
       "417       3    1      1      1\n",
       "\n",
       "[418 rows x 4 columns]"
      ]
     },
     "execution_count": 4,
     "metadata": {},
     "output_type": "execute_result"
    }
   ],
   "source": [
    "X_test1 = pd.read_csv(\"/kaggle/input/train-and-test/test.csv\")\n",
    "X_test = X_test1.drop(columns=columns_to_drop)\n",
    "X_test[\"Sex\"] = X_test[\"Sex\"].map({\"male\": 1, \"female\": 0})\n",
    "X_test\n"
   ]
  },
  {
   "cell_type": "code",
   "execution_count": 5,
   "id": "4e41b277",
   "metadata": {
    "execution": {
     "iopub.execute_input": "2024-11-24T11:12:40.174787Z",
     "iopub.status.busy": "2024-11-24T11:12:40.174334Z",
     "iopub.status.idle": "2024-11-24T11:12:40.222344Z",
     "shell.execute_reply": "2024-11-24T11:12:40.221027Z"
    },
    "papermill": {
     "duration": 0.054237,
     "end_time": "2024-11-24T11:12:40.224691",
     "exception": false,
     "start_time": "2024-11-24T11:12:40.170454",
     "status": "completed"
    },
    "tags": []
   },
   "outputs": [
    {
     "name": "stdout",
     "output_type": "stream",
     "text": [
      "(891, 4)\n",
      "(418, 4)\n"
     ]
    }
   ],
   "source": [
    "X_train_tensor = torch.tensor(X_train.values, dtype=torch.float32)\n",
    "X_test_tensor = torch.tensor(X_test.values, dtype=torch.float32)\n",
    "y_train_tensor = torch.tensor(y_train.values, dtype=torch.float32)\n",
    "train_dataset = TensorDataset(X_train_tensor, y_train_tensor)\n",
    "test_dataset = TensorDataset(X_test_tensor)\n",
    "print(X_train.shape)  # Должно быть (n_samples, 4)\n",
    "print(X_test.shape) "
   ]
  },
  {
   "cell_type": "code",
   "execution_count": 6,
   "id": "8289c8db",
   "metadata": {
    "execution": {
     "iopub.execute_input": "2024-11-24T11:12:40.232180Z",
     "iopub.status.busy": "2024-11-24T11:12:40.231772Z",
     "iopub.status.idle": "2024-11-24T11:12:43.143610Z",
     "shell.execute_reply": "2024-11-24T11:12:43.142353Z"
    },
    "papermill": {
     "duration": 2.918488,
     "end_time": "2024-11-24T11:12:43.146177",
     "exception": false,
     "start_time": "2024-11-24T11:12:40.227689",
     "status": "completed"
    },
    "tags": []
   },
   "outputs": [],
   "source": [
    "from torch import nn\n",
    "model = nn.Sequential(\n",
    "    nn.Linear(in_features=4, out_features=128),\n",
    "    nn.ReLU(),\n",
    "    nn.Linear(in_features=128, out_features=64),\n",
    "    nn.ReLU(),\n",
    "    nn.Linear(in_features=64, out_features=1),\n",
    "    nn.Sigmoid(),\n",
    "    nn.Flatten(start_dim=0)\n",
    ")\n",
    "loss_function = nn.BCELoss()\n",
    "\n",
    "from torch import optim\n",
    "\n",
    "# your code here\n",
    "optimizer = optim.SGD(model.parameters(), lr=1e-1)\n",
    "\n",
    "\n",
    "\n",
    "def run(model, dataloader, loss_function, optimizer=None):\n",
    "    # set the model to evaluation or training mode\n",
    "    if optimizer == None:\n",
    "        model.eval()\n",
    "    else:\n",
    "        model.train()\n",
    "\n",
    "    total_loss = 0\n",
    "\n",
    "    for X, y in dataloader:\n",
    "        # compute prediction\n",
    "        pred = model(X)\n",
    "        # compute loss\n",
    "        loss = loss_function(pred, y)\n",
    "        # save loss\n",
    "        total_loss += loss.item()\n",
    "        if optimizer != None:\n",
    "            # compute gradients\n",
    "            loss.backward()\n",
    "            # do optimizer step\n",
    "            optimizer.step()\n",
    "            # clear gradients\n",
    "            optimizer.zero_grad()\n",
    "\n",
    "    return model.parameters()\n",
    "NUM_EPOCHS = 20\n",
    "BATCH_SIZE = 20\n",
    "train_loader = DataLoader(train_dataset, batch_size=BATCH_SIZE)\n",
    "test_loader = DataLoader(test_dataset, batch_size=BATCH_SIZE)\n",
    "for i in range(NUM_EPOCHS):\n",
    "    run(model, train_loader, loss_function, optimizer)\n",
    "y_test_pred = []\n",
    "model.eval()  \n",
    "with torch.no_grad(): \n",
    "    for X_batch in test_loader:\n",
    "    \n",
    "        X_batch = X_batch[0]\n",
    "        pred = model(X_batch) \n",
    "        y_test_pred.append(pred)\n",
    "y_test_pred = torch.cat(y_test_pred, dim=0)\n",
    "y_test_pred_rounded = torch.round(y_test_pred)\n",
    "y_test_pred_int = y_test_pred_rounded.int()\n",
    "\n"
   ]
  },
  {
   "cell_type": "code",
   "execution_count": 7,
   "id": "b15a4145",
   "metadata": {
    "execution": {
     "iopub.execute_input": "2024-11-24T11:12:43.154104Z",
     "iopub.status.busy": "2024-11-24T11:12:43.153527Z",
     "iopub.status.idle": "2024-11-24T11:12:43.166436Z",
     "shell.execute_reply": "2024-11-24T11:12:43.165109Z"
    },
    "papermill": {
     "duration": 0.019498,
     "end_time": "2024-11-24T11:12:43.168897",
     "exception": false,
     "start_time": "2024-11-24T11:12:43.149399",
     "status": "completed"
    },
    "tags": []
   },
   "outputs": [
    {
     "name": "stdout",
     "output_type": "stream",
     "text": [
      "Your submission was successfully saved!\n"
     ]
    }
   ],
   "source": [
    "output = pd.DataFrame({'PassengerId': X_test1.PassengerId, 'Survived': y_test_pred_int})\n",
    "output.to_csv('submission.csv', index=False)\n",
    "print(\"Your submission was successfully saved!\")"
   ]
  }
 ],
 "metadata": {
  "kaggle": {
   "accelerator": "none",
   "dataSources": [
    {
     "datasetId": 6145193,
     "sourceId": 9985696,
     "sourceType": "datasetVersion"
    }
   ],
   "dockerImageVersionId": 30786,
   "isGpuEnabled": false,
   "isInternetEnabled": false,
   "language": "python",
   "sourceType": "notebook"
  },
  "kernelspec": {
   "display_name": "Python 3",
   "language": "python",
   "name": "python3"
  },
  "language_info": {
   "codemirror_mode": {
    "name": "ipython",
    "version": 3
   },
   "file_extension": ".py",
   "mimetype": "text/x-python",
   "name": "python",
   "nbconvert_exporter": "python",
   "pygments_lexer": "ipython3",
   "version": "3.10.14"
  },
  "papermill": {
   "default_parameters": {},
   "duration": 13.168894,
   "end_time": "2024-11-24T11:12:44.396323",
   "environment_variables": {},
   "exception": null,
   "input_path": "__notebook__.ipynb",
   "output_path": "__notebook__.ipynb",
   "parameters": {},
   "start_time": "2024-11-24T11:12:31.227429",
   "version": "2.6.0"
  }
 },
 "nbformat": 4,
 "nbformat_minor": 5
}
